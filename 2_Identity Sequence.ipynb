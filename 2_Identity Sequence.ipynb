{
 "cells": [
  {
   "cell_type": "markdown",
   "metadata": {},
   "source": [
    "#### Write a Python/Java code to find the identity value of a given sequences. Take the sequence from user."
   ]
  },
  {
   "cell_type": "code",
   "execution_count": 1,
   "metadata": {},
   "outputs": [
    {
     "name": "stdout",
     "output_type": "stream",
     "text": [
      "Enter the first sequence: ATGCA\n",
      "Enter the second sequence: TAGCT\n",
      "\n",
      "['A', 'T', 'G', 'C', 'A']\n",
      "['T', 'A', 'G', 'C', 'T']\n",
      "Matching Score:  6\n",
      "Identity of the sequences:  24.0\n"
     ]
    }
   ],
   "source": [
    "se1 = input(\"Enter the first sequence: \")\n",
    "se2 = input(\"Enter the second sequence: \")\n",
    "\n",
    "seq1  = list(se1)\n",
    "seq2  = list(se2)\n",
    "\n",
    "def find_identity(a,b):\n",
    "    gap(a,b)\n",
    "    print(a)\n",
    "    print(b)\n",
    "    score= 0\n",
    "    length=len(a)\n",
    "    total_elements = len(a)*len(b)\n",
    "    for i in range(0,length):\n",
    "        for j in range(0,length):\n",
    "            if(a[i]==b[j]):\n",
    "                score=score+1\n",
    "    identity = (score/total_elements)*100\n",
    "    print(\"Matching Score: \", score)\n",
    "    print(\"Identity of the sequences: \",identity)\n",
    "\n",
    "def gap(a,b):\n",
    "    if(len(a)==len(b)):\n",
    "        print()\n",
    "    else:\n",
    "        k=int(input(\"Enter the position to insert gap: \"))\n",
    "        if(len(a)<len(b)):\n",
    "            a.insert(k,'-')\n",
    "        else:\n",
    "            b.insert(k,'-')\n",
    "    return (a,b)\n",
    "\n",
    "\n",
    "find_identity(seq1,seq2)\n"
   ]
  }
 ],
 "metadata": {
  "kernelspec": {
   "display_name": "Python 3",
   "language": "python",
   "name": "python3"
  },
  "language_info": {
   "codemirror_mode": {
    "name": "ipython",
    "version": 3
   },
   "file_extension": ".py",
   "mimetype": "text/x-python",
   "name": "python",
   "nbconvert_exporter": "python",
   "pygments_lexer": "ipython3",
   "version": "3.8.5"
  }
 },
 "nbformat": 4,
 "nbformat_minor": 4
}
