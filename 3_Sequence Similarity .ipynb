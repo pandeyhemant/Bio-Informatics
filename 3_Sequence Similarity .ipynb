{
 "cells": [
  {
   "cell_type": "markdown",
   "metadata": {},
   "source": [
    "#### Write a Python/Java code to find the Similarity value of a given sequences. Take the sequence from user."
   ]
  },
  {
   "cell_type": "code",
   "execution_count": 1,
   "metadata": {},
   "outputs": [
    {
     "name": "stdout",
     "output_type": "stream",
     "text": [
      "Ente rthe first sequence: ATGCA\n",
      "Ente rthe second sequence: ATGTA\n",
      "How many elements for similarity conditions?1\n",
      "Enter an element: C\n",
      "How many elements is it similar to? 1\n",
      "What is it similar to? T\n",
      "['A', 'T', 'G', 'C', 'A']\n",
      "['A', 'T', 'G', 'T', 'A']\n",
      "[['C', 'T']]\n",
      "20.0 %\n"
     ]
    }
   ],
   "source": [
    "se1 = input(\"Ente rthe first sequence: \")\n",
    "se2 = input(\"Ente rthe second sequence: \")\n",
    "\n",
    "how_many = int(input(\"How many elements for similarity conditions?\"))\n",
    "similarities =  []\n",
    "for i in range(0,how_many):\n",
    "    a=input(\"Enter an element: \")\n",
    "    c=int(input(\"How many elements is it similar to? \"))\n",
    "    similarities.append([])\n",
    "    similarities[i].append(a)\n",
    "\n",
    "    for j in  range(0,c):\n",
    "        b=input(\"What is it similar to? \")\n",
    "        similarities[i].append(b)\n",
    "\n",
    "def compare(o,t,s):\n",
    "    print(o)\n",
    "    print(t)\n",
    "    print(s)\n",
    "\n",
    "    #checking if similar\n",
    "\n",
    "    score= 0\n",
    "    for i in range(len(o)):\n",
    "        for j in range(len(s)):\n",
    "            if o[i] in s[j] and t[i] in s[j] and o[i] != t[i]:\n",
    "                score += 1\n",
    "    #calculating similarity\n",
    "    similarity = (score*100)/len(o)\n",
    "    return similarity\n",
    "\n",
    "print(compare(list(se1),list(se2),similarities),\"%\")\n",
    "\n"
   ]
  },
  {
   "cell_type": "code",
   "execution_count": null,
   "metadata": {},
   "outputs": [],
   "source": []
  }
 ],
 "metadata": {
  "kernelspec": {
   "display_name": "Python 3",
   "language": "python",
   "name": "python3"
  },
  "language_info": {
   "codemirror_mode": {
    "name": "ipython",
    "version": 3
   },
   "file_extension": ".py",
   "mimetype": "text/x-python",
   "name": "python",
   "nbconvert_exporter": "python",
   "pygments_lexer": "ipython3",
   "version": "3.8.5"
  }
 },
 "nbformat": 4,
 "nbformat_minor": 4
}
