{
 "cells": [
  {
   "cell_type": "markdown",
   "metadata": {},
   "source": [
    "#####  Write a Python/Java code to perform pairwise alignment. Take 2 sequences from user and calculate the score."
   ]
  },
  {
   "cell_type": "code",
   "execution_count": 1,
   "metadata": {},
   "outputs": [
    {
     "name": "stdout",
     "output_type": "stream",
     "text": [
      "Enter the first sequence: ATGCA\n",
      "Enter the second sequence: ATGTA\n",
      "\n",
      "['A', 'T', 'G', 'C', 'A']\n",
      "['A', 'T', 'G', 'T', 'A']\n",
      "['1', '1', '1', '0', '1']\n",
      "4\n"
     ]
    }
   ],
   "source": [
    "se1 = input(\"Enter the first sequence: \")\n",
    "se2 = input(\"Enter the second sequence: \")\n",
    "seq1 = list(se1)\n",
    "seq2 = list(se2)\n",
    "score =[]\n",
    "\n",
    "def Pairwise_alignment(a,b):\n",
    "    gap(a,b)\n",
    "    print(a)\n",
    "    print(b)\n",
    "\n",
    "    value =0\n",
    "    length = len(a)\n",
    "    for i in range(0, length):\n",
    "        if (a[i] == b[i]):\n",
    "            score.append('1')\n",
    "            value =value+1\n",
    "        else:\n",
    "            score.append('0')\n",
    "    print(score)\n",
    "    print(value)\n",
    "\n",
    "def gap(a,b):\n",
    "    if (len(a)==len(b)):\n",
    "        print()\n",
    "    else:\n",
    "        k= int(input(\"Enter the position to insert: \"))\n",
    "        if(len(a)<len(b)):\n",
    "            a.insert(k,'-')\n",
    "        else:\n",
    "            b.insert(k,'-')\n",
    "\n",
    "    return (a,b)\n",
    "\n",
    "Pairwise_alignment(seq1,seq2)\n"
   ]
  },
  {
   "cell_type": "code",
   "execution_count": null,
   "metadata": {},
   "outputs": [],
   "source": []
  }
 ],
 "metadata": {
  "kernelspec": {
   "display_name": "Python 3",
   "language": "python",
   "name": "python3"
  },
  "language_info": {
   "codemirror_mode": {
    "name": "ipython",
    "version": 3
   },
   "file_extension": ".py",
   "mimetype": "text/x-python",
   "name": "python",
   "nbconvert_exporter": "python",
   "pygments_lexer": "ipython3",
   "version": "3.8.5"
  }
 },
 "nbformat": 4,
 "nbformat_minor": 4
}
