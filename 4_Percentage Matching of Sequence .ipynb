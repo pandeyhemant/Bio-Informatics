{
 "cells": [
  {
   "cell_type": "markdown",
   "metadata": {},
   "source": [
    "#### Write a Python/Java code to find the Percentage matching of sequence of a given sequences. Take the sequence from user."
   ]
  },
  {
   "cell_type": "code",
   "execution_count": 1,
   "metadata": {
    "scrolled": true
   },
   "outputs": [
    {
     "name": "stdout",
     "output_type": "stream",
     "text": [
      "Enter the First sequence::ATGATCA\n",
      "Enter the Second sequence::ATATAGA\n",
      "How many elements for similarity condition?1\n",
      "Enter an element: G\n",
      "How many elements is it similar to? 1\n",
      "What is it similar to? A\n",
      "['A', 'T', 'G', 'A', 'T', 'C', 'A']\n",
      "['A', 'T', 'A', 'T', 'A', 'G', 'A']\n",
      "[['G', 'A']]\n",
      "similarity of the Sequences:: 1\n",
      "identity of the Sequences:: 3\n",
      "Gap in the sequence 0\n",
      "Pergetage of sequence are:: 57.14285714285714 %\n"
     ]
    }
   ],
   "source": [
    "seq1=list(input(\"Enter the First sequence::\"))\n",
    "seq2=list(input(\"Enter the Second sequence::\"))\n",
    "\n",
    "#for identity\n",
    "score=[]\n",
    "def identity(a,b):\n",
    "    value=0\n",
    "    length=len(a)\n",
    "    for i in range(0,length):\n",
    "        if(a[i]==b[i]):\n",
    "            score.append('1')\n",
    "            value=value+1\n",
    "        else:\n",
    "            score.append('0')\n",
    "    return value\n",
    "\n",
    "\n",
    "#for similarity\n",
    "how_many=int(input(\"How many elements for similarity condition?\"))\n",
    "similarities=[]\n",
    "for i in range(0,how_many):\n",
    "    a=input(\"Enter an element: \")\n",
    "    c=int(input(\"How many elements is it similar to? \"))\n",
    "    similarities.append([])\n",
    "    similarities[i].append(a)\n",
    "\n",
    "    for j in range(0,c):\n",
    "        b=input(\"What is it similar to? \")\n",
    "        similarities[i].append(b)\n",
    "\n",
    "def compare(o,t,s):\n",
    "    print(o)\n",
    "    print(t)\n",
    "    print(s)\n",
    "    #checking if similar\n",
    "    score=0\n",
    "    for i in range(len(o)):\n",
    "        for j in range(len(s)):\n",
    "            if o[i] in s[j] and t[i] in s[j] and o[i] != t[i]:\n",
    "                score+=1\n",
    "    #calculating similarity\n",
    "    similarity= score\n",
    "    return similarity\n",
    "\n",
    "\n",
    "identi=(identity((seq1),(seq2)))\n",
    "simi=(compare((seq1),(seq2),similarities))\n",
    "print(\"similarity of the Sequences::\",simi)\n",
    "print(\"identity of the Sequences::\",identi)\n",
    "total=identi + simi\n",
    "\n",
    "#counting \n",
    "gap_in_sequence1=seq1.count('-')\n",
    "gap_in_sequence2=seq2.count('-')\n",
    "total_gap=gap_in_sequence1 + gap_in_sequence2\n",
    "print(\"Gap in the sequence\",total_gap)\n",
    "\n",
    "pergetage_of_sequence=(total/(len(seq1)- total_gap))*100\n",
    "print(\"Pergetage of sequence are::\",pergetage_of_sequence,\"%\")\n"
   ]
  },
  {
   "cell_type": "code",
   "execution_count": null,
   "metadata": {},
   "outputs": [],
   "source": []
  }
 ],
 "metadata": {
  "kernelspec": {
   "display_name": "Python 3",
   "language": "python",
   "name": "python3"
  },
  "language_info": {
   "codemirror_mode": {
    "name": "ipython",
    "version": 3
   },
   "file_extension": ".py",
   "mimetype": "text/x-python",
   "name": "python",
   "nbconvert_exporter": "python",
   "pygments_lexer": "ipython3",
   "version": "3.8.5"
  }
 },
 "nbformat": 4,
 "nbformat_minor": 4
}
